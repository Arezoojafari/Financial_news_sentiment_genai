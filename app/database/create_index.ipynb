{
 "cells": [
  {
   "cell_type": "code",
   "execution_count": 7,
   "id": "193f8383-9a4b-453c-b1ef-b69f709aed34",
   "metadata": {},
   "outputs": [
    {
     "data": {
      "text/plain": [
       "True"
      ]
     },
     "execution_count": 7,
     "metadata": {},
     "output_type": "execute_result"
    }
   ],
   "source": [
    "import os\n",
    "import pandas as pd\n",
    "import sqlite3\n",
    "import numpy as np\n",
    "import time\n",
    "from tqdm import tqdm\n",
    "import pickle\n",
    "from concurrent.futures import ThreadPoolExecutor, as_completed\n",
    "from google import genai\n",
    "from dotenv import load_dotenv\n",
    "load_dotenv()"
   ]
  },
  {
   "cell_type": "code",
   "execution_count": 5,
   "id": "4e7fc54b-8613-48ba-90f3-1008a97870bd",
   "metadata": {},
   "outputs": [],
   "source": [
    "GOOGLE_API_KEY = os.getenv(\"GOOGLE_API_KEY\")\n",
    "client = genai.Client(api_key=GOOGLE_API_KEY)\n",
    "\n",
    "data_path = \"../../datasets/sentiment_data.csv\""
   ]
  },
  {
   "cell_type": "code",
   "execution_count": 8,
   "id": "70a7e227-1898-4695-a2c2-9cfa40b1ff94",
   "metadata": {},
   "outputs": [],
   "source": [
    "df = pd.read_csv(data_path, encoding=\"ISO-8859-1\", header=None)\n",
    "df.columns = ['label', 'text']\n",
    "df['label'] = df['label'].str.lower().str.strip()\n",
    "df = df.dropna(subset=[\"text\", \"label\"]).reset_index(drop=True)"
   ]
  },
  {
   "cell_type": "code",
   "execution_count": 13,
   "id": "0867b593-d8fd-4a44-8a98-d2fa0f4b7386",
   "metadata": {
    "scrolled": true
   },
   "outputs": [],
   "source": [
    "def get_gemini_embedding(text):\n",
    "    try:\n",
    "        response = client.models.embed_content(\n",
    "            model=\"models/text-embedding-004\",\n",
    "            contents=text,\n",
    "            config={\"task_type\":'RETRIEVAL_DOCUMENT'}\n",
    "        )\n",
    "        time.sleep(0.7)\n",
    "        return response.embeddings[0].values\n",
    "    except Exception as e:\n",
    "        print(\"Embedding failed:\", e)\n",
    "        return None"
   ]
  },
  {
   "cell_type": "code",
   "execution_count": 15,
   "id": "b34ad2f7-f8cd-44cb-bd65-7ac81c77919e",
   "metadata": {},
   "outputs": [
    {
     "name": "stderr",
     "output_type": "stream",
     "text": [
      "100%|█████████████████████████████████████| 4846/4846 [1:14:23<00:00,  1.09it/s]"
     ]
    },
    {
     "name": "stdout",
     "output_type": "stream",
     "text": [
      "Done! Embeddings and data saved in labeled_news.db\n"
     ]
    },
    {
     "name": "stderr",
     "output_type": "stream",
     "text": [
      "\n"
     ]
    }
   ],
   "source": [
    "# Create SQLite DB\n",
    "conn = sqlite3.connect(\"labeled_news.db\")\n",
    "c = conn.cursor()\n",
    "c.execute(\"\"\"\n",
    "CREATE TABLE IF NOT EXISTS news (\n",
    "    id INTEGER PRIMARY KEY AUTOINCREMENT,\n",
    "    text TEXT,\n",
    "    label TEXT,\n",
    "    embedding BLOB\n",
    ")\n",
    "\"\"\")\n",
    "\n",
    "for i, row in tqdm(df.iterrows(), total=len(df)):\n",
    "    emb = get_gemini_embedding(row['text'])\n",
    "    if emb is not None:\n",
    "        emb_blob = pickle.dumps(np.array(emb, dtype=np.float32))\n",
    "        c.execute(\n",
    "            \"INSERT INTO news (text, label, embedding) VALUES (?, ?, ?)\",\n",
    "            (row['text'], row['label'], emb_blob)\n",
    "        )\n",
    "        if i % 100 == 0:\n",
    "            conn.commit()\n",
    "\n",
    "conn.commit()\n",
    "conn.close()\n",
    "print(\"Done! Embeddings and data saved in labeled_news.db\")"
   ]
  },
  {
   "cell_type": "markdown",
   "id": "7d683886-1a57-4cbe-9e63-35a7019afeab",
   "metadata": {},
   "source": [
    "## Explore Stored Index"
   ]
  },
  {
   "cell_type": "code",
   "execution_count": 16,
   "id": "d3bd4b3d-86c1-426f-b064-2da3fd53afdf",
   "metadata": {},
   "outputs": [
    {
     "name": "stdout",
     "output_type": "stream",
     "text": [
      "Number of rows in DB: 4846\n",
      "\n",
      "ID: 1\n",
      "Label: neutral\n",
      "Text: According to Gran , the company has no plans to move all production to Russia , although that is whe...\n",
      "Embedding shape: (768,), First 5 values: [-0.00908443 -0.01821281 -0.02909375 -0.01231977 -0.00335723]\n",
      "\n",
      "ID: 2\n",
      "Label: neutral\n",
      "Text: Technopolis plans to develop in stages an area of no less than 100,000 square meters in order to hos...\n",
      "Embedding shape: (768,), First 5 values: [-0.02230478  0.00380668 -0.00939238 -0.01575931  0.01340601]\n",
      "\n",
      "ID: 3\n",
      "Label: negative\n",
      "Text: The international electronic industry company Elcoteq has laid off tens of employees from its Tallin...\n",
      "Embedding shape: (768,), First 5 values: [-0.00400596  0.00566283  0.01386932  0.02713201  0.04100661]\n"
     ]
    }
   ],
   "source": [
    "conn = sqlite3.connect(\"labeled_news.db\")\n",
    "c = conn.cursor()\n",
    "\n",
    "# Check how many rows are in the news table\n",
    "c.execute(\"SELECT COUNT(*) FROM news\")\n",
    "row_count = c.fetchone()[0]\n",
    "print(f\"Number of rows in DB: {row_count}\")\n",
    "\n",
    "# Fetch and display a few sample rows (e.g., first 3)\n",
    "c.execute(\"SELECT id, text, label, embedding FROM news LIMIT 3\")\n",
    "samples = c.fetchall()\n",
    "\n",
    "for sample in samples:\n",
    "    sample_id, text, label, emb_blob = sample\n",
    "    print(f\"\\nID: {sample_id}\")\n",
    "    print(f\"Label: {label}\")\n",
    "    print(f\"Text: {text[:100]}{'...' if len(text) > 100 else ''}\")  # Print first 100 chars for brevity\n",
    "    embedding = pickle.loads(emb_blob)\n",
    "    print(f\"Embedding shape: {embedding.shape}, First 5 values: {embedding[:5]}\")\n",
    "\n",
    "conn.close()"
   ]
  }
 ],
 "metadata": {
  "kernelspec": {
   "display_name": "Python 3 (ipykernel)",
   "language": "python",
   "name": "python3"
  },
  "language_info": {
   "codemirror_mode": {
    "name": "ipython",
    "version": 3
   },
   "file_extension": ".py",
   "mimetype": "text/x-python",
   "name": "python",
   "nbconvert_exporter": "python",
   "pygments_lexer": "ipython3",
   "version": "3.13.2"
  }
 },
 "nbformat": 4,
 "nbformat_minor": 5
}
