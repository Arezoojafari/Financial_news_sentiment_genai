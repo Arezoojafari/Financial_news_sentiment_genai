{
 "cells": [
  {
   "cell_type": "markdown",
   "metadata": {},
   "source": [
    "# Real-Time Financial Sentiment Classification using GenAI + RAG + Agent\n",
    "\n",
    "This capstone demonstrates an end-to-end **Generative AI pipeline** using **Gemini 2.0 Flash**, **retrieval-augmented generation (RAG)**, and a **LangChain Python agent** for financial sentiment analysis.\n",
    "\n",
    "The steps are:\n",
    "- Fetch **1000 real-time finance news articles**\n",
    "- Use **Gemini embeddings** to retrieve similar examples from a labeled dataset via **FAISS**\n",
    "- Build **few-shot prompts** dynamically and classify sentiment using Gemini Flash\n",
    "- Return a structured **JSON output** per article, showing the prediction and the supporting example\n",
    "\n",
    "**Impact**: This solution supports analysts and decision-makers by transforming unstructured market news into structured, explainable sentiment summaries in real time.\n"
   ]
  },
  {
   "cell_type": "markdown",
   "metadata": {},
   "source": [
    "### Install Dependencies\n",
    "Install required libraries such as LangChain, Gemini SDK, FAISS, and sentence-transformers."
   ]
  },
  {
   "cell_type": "code",
   "execution_count": 21,
   "metadata": {
    "_cell_guid": "b1076dfc-b9ad-4769-8c92-a6c4dae69d19",
    "_uuid": "8f2839f25d086af736a60e9eeb907d3b93b6e0e5"
   },
   "outputs": [],
   "source": [
    "import numpy as np \n",
    "import pandas as pd \n",
    "\n",
    "import os\n",
    "# for dirname, _, filenames in os.walk('/kaggle/input'):\n",
    "    # for filename in filenames:\n",
    "        # print(os.path.join(dirname, filename))"
   ]
  },
  {
   "cell_type": "markdown",
   "metadata": {},
   "source": [
    "## Install dependencies in Kaggle"
   ]
  },
  {
   "cell_type": "markdown",
   "metadata": {},
   "source": [
    "### Set Up Gemini & Import Packages\n",
    "Configure the Gemini SDK and import all required Python packages."
   ]
  },
  {
   "cell_type": "code",
   "execution_count": 3,
   "metadata": {},
   "outputs": [],
   "source": [
    "!pip install -q langchain faiss-cpu google-genai google-adk"
   ]
  },
  {
   "cell_type": "code",
   "execution_count": 2,
   "metadata": {},
   "outputs": [],
   "source": [
    "!pip install -U langchain-google-genai"
   ]
  },
  {
   "cell_type": "markdown",
   "metadata": {},
   "source": [
    "## LangChain + Gemini Setup"
   ]
  },
  {
   "cell_type": "code",
   "execution_count": 22,
   "metadata": {},
   "outputs": [],
   "source": [
    "from google import genai\n",
    "from langchain_core.tools import tool\n",
    "from langchain.agents import AgentExecutor, create_tool_calling_agent\n",
    "from langchain_core.prompts import ChatPromptTemplate\n",
    "from langchain_google_genai import ChatGoogleGenerativeAI\n",
    "from langchain_core.tools import tool\n",
    "\n",
    "import os\n",
    "import time\n",
    "import numpy as np\n",
    "import pandas as pd\n",
    "import faiss\n",
    "import random\n",
    "from tqdm import tqdm\n",
    "from typing import List\n",
    "from typing import Dict,Any\n",
    "import requests\n"
   ]
  },
  {
   "cell_type": "code",
   "execution_count": 23,
   "metadata": {},
   "outputs": [],
   "source": [
    "from dotenv import load_dotenv\n",
    "load_dotenv()\n",
    "\n",
    "GOOGLE_API_KEY = os.getenv(\"GOOGLE_API_KEY\")"
   ]
  },
  {
   "cell_type": "code",
   "execution_count": 24,
   "metadata": {},
   "outputs": [],
   "source": [
    "client = genai.Client(api_key=GOOGLE_API_KEY)\n",
    "\n",
    "# model = genai.GenerativeModel('gemini-2.0-flash')\n",
    "# def classify_with_gemini(prompt: str):\n",
    "#     response = genai.generate_content(prompt, model=\"gemini-2.0-flash\")\n",
    "#     return response.text.strip()\n"
   ]
  },
  {
   "cell_type": "markdown",
   "metadata": {},
   "source": [
    "### Load & Clean Labeled Data\n",
    "Load the labeled financial sentiment dataset and prepare it for embedding."
   ]
  },
  {
   "cell_type": "code",
   "execution_count": 48,
   "metadata": {},
   "outputs": [],
   "source": [
    "df = pd.read_csv(\"datasets/sentiment_data.csv\", encoding=\"ISO-8859-1\", header=None)\n",
    "df.columns = ['label', 'text']\n",
    "df['label'] = df['label'].str.lower().str.strip()\n",
    "df = df.iloc[:100,:]"
   ]
  },
  {
   "cell_type": "markdown",
   "metadata": {},
   "source": [
    "### Embed Labeled Data with Gemini\n",
    "Use Gemini's embedding API to encode each labeled example for similarity search."
   ]
  },
  {
   "cell_type": "code",
   "execution_count": 29,
   "metadata": {},
   "outputs": [
    {
     "name": "stderr",
     "output_type": "stream",
     "text": [
      "100%|███████████████████████████████████████████| 10/10 [00:09<00:00,  1.09it/s]\n"
     ]
    }
   ],
   "source": [
    "# from google.generativeai import embed_content\n",
    "\n",
    "def get_gemini_embedding(text):\n",
    "    try:\n",
    "        response = client.models.embed_content(\n",
    "                model=\"models/text-embedding-004\",\n",
    "                contents=text,\n",
    "                config={\"task_type\":'RETRIEVAL_DOCUMENT'}\n",
    "        )\n",
    "        time.sleep(0.7)\n",
    "        return response.embeddings\n",
    "    except Exception as e:\n",
    "        print(\"Embedding failed:\", e)\n",
    "        return None\n",
    "\n",
    "# Step 5: Apply to the labeled dataset\n",
    "labeled_data = []\n",
    "for i, row in tqdm(df.iterrows(), total=len(df)):\n",
    "    embedding = get_gemini_embedding(row['text'])\n",
    "    if embedding:\n",
    "        labeled_data.append({\n",
    "            'text': row['text'],\n",
    "            'label': row['label'],\n",
    "            'embedding': embedding\n",
    "        })"
   ]
  },
  {
   "cell_type": "markdown",
   "metadata": {},
   "source": [
    "### Build FAISS Index on Labeled Embeddings\n",
    "Use FAISS to index all labeled data vectors for fast nearest-neighbor retrieval."
   ]
  },
  {
   "cell_type": "code",
   "execution_count": 30,
   "metadata": {},
   "outputs": [],
   "source": [
    "#\n",
    "label_embeddings = np.array([item['embedding'][0].values for item in labeled_data]).astype('float32')\n",
    "faiss.normalize_L2(label_embeddings)\n",
    "faiss_index = faiss.IndexFlatIP(label_embeddings.shape[1])\n",
    "faiss_index.add(label_embeddings)\n"
   ]
  },
  {
   "cell_type": "markdown",
   "metadata": {},
   "source": [
    "### Fetch Real-Time Finance News\n",
    "Use NewsAPI to retrieve the top 100 recent finance-related news articles."
   ]
  },
  {
   "cell_type": "code",
   "execution_count": 31,
   "metadata": {},
   "outputs": [],
   "source": [
    "NEWS_API_KEY = os.getenv(\"NEWS_API_KEY\")"
   ]
  },
  {
   "cell_type": "code",
   "execution_count": 32,
   "metadata": {},
   "outputs": [],
   "source": [
    "def fetch_news(query: str, max_results: int) -> List[str]:\n",
    "    \"\"\"\n",
    "    Fetches recent English-language news articles matching the provided search query using the NewsAPI.\n",
    "\n",
    "    Args:\n",
    "        query (str): The search term or keywords to look for in news articles.\n",
    "        max_results (int, optional): The maximum number of articles to retrieve. Defaults to 10.\n",
    "\n",
    "    Returns:\n",
    "        List[str]: A list of strings, where each string contains the title and description of a news article.\n",
    "                   Returns an empty list if the request fails or no articles are found.\n",
    "\n",
    "    Example:\n",
    "        articles = fetch_news(\"artificial intelligence\", max_results=10)\n",
    "        # Returns a list of up to 10 news articles about artificial intelligence.\n",
    "    \"\"\"\n",
    "    url = \"https://newsapi.org/v2/everything\"\n",
    "    params = {\n",
    "        \"q\": query,\n",
    "        \"language\": \"en\",\n",
    "        \"pageSize\": max_results,\n",
    "        \"sortBy\": \"relevance\",\n",
    "        \"apiKey\": NEWS_API_KEY\n",
    "    }\n",
    "    response = requests.get(url, params=params)\n",
    "    if response.status_code != 200:\n",
    "        print(\"Failed to fetch news:\", response.text)\n",
    "        return []\n",
    "    return [f\"{a['title']}. {a['description']}\" for a in response.json().get(\"articles\", []) if a['description']]\n"
   ]
  },
  {
   "cell_type": "code",
   "execution_count": 69,
   "metadata": {},
   "outputs": [],
   "source": [
    "# fetch_news.args_schema.model_json_schema()"
   ]
  },
  {
   "cell_type": "markdown",
   "metadata": {},
   "source": [
    "### Define LangChain Tool: RAG Retriever\n",
    "Wrap the retrieval function as a LangChain-compatible Tool for the agent."
   ]
  },
  {
   "cell_type": "code",
   "execution_count": 33,
   "metadata": {},
   "outputs": [],
   "source": [
    "# @tool(parse_docstring=True)\n",
    "def retrieve_similar_labeled_example(news_text: str) -> Dict[str, str]:\n",
    "    \"\"\"\n",
    "    Finds and returns the most similar labeled financial example to the given news article using FAISS-based semantic search.\n",
    "\n",
    "    Args:\n",
    "        news_text (str): The news article or headline text to search for similar labeled examples.\n",
    "\n",
    "    Returns:\n",
    "        Dict[str, str]: A dictionary containing the following keys:\n",
    "            - 'example_text': The text of the most similar labeled finance example from the database.\n",
    "            - 'example_label': The label or category associated with the matched example.\n",
    "            - If embedding fails, returns {'error': 'Failed to embed'}.\n",
    "\n",
    "    Example:\n",
    "        result = retrieve_similar_labeled_example(\"Apple stock surges after earnings report.\")\n",
    "        # Returns: {'example_text': 'Apple posts record quarterly revenue...', 'example_label': 'positive'}\n",
    "    \"\"\"\n",
    "    query_vec = get_gemini_embedding(news_text)\n",
    "   \n",
    "    if query_vec is None:\n",
    "        return {\"error\": \"Failed to embed\"}\n",
    "    query_array = np.array(query_vec[0].values, dtype='float32').reshape(1, -1)\n",
    "    # print(query_array)\n",
    "    faiss.normalize_L2(query_array)\n",
    "    _, indices = faiss_index.search(query_array.reshape(1, -1), 1)\n",
    "    matched = labeled_data[indices[0][0]]\n",
    "    \n",
    "    return {\"example_text\": matched['text'], \"example_label\": matched['label']}\n"
   ]
  },
  {
   "cell_type": "markdown",
   "metadata": {},
   "source": [
    "### Define LangChain Tool: Sentiment Classifier\n",
    "Wrap the few-shot Gemini classifier as another LangChain Tool."
   ]
  },
  {
   "cell_type": "markdown",
   "metadata": {},
   "source": [
    "### -Tool: Classify with Gemini (Few-shot prompt)"
   ]
  },
  {
   "cell_type": "code",
   "execution_count": 34,
   "metadata": {},
   "outputs": [],
   "source": [
    "# @tool(parse_docstring=True)\n",
    "def classify_sentiment_with_few_shot(news: str, example_text: str, example_label: str) -> Dict[str, str]:\n",
    "    \"\"\"\n",
    "    Classifies the sentiment of a financial news article (positive, negative, or neutral) using a few-shot prompt with Gemini.\n",
    "    The function leverages a matched labeled example as in-context reference to improve classification accuracy.\n",
    "\n",
    "    Args:\n",
    "        news (str): The text of the financial news article to be classified.\n",
    "        example_text (str): A labeled example news text that is semantically similar to the input.\n",
    "        example_label (str): The sentiment label ('positive', 'negative', or 'neutral') of the example_text.\n",
    "\n",
    "    Returns:\n",
    "        Dict[str, str]: A dictionary containing:\n",
    "            - 'sentiment': The predicted sentiment for the input news article ('positive', 'negative', 'neutral', or 'unknown').\n",
    "            - 'news': The input news article text.\n",
    "            - 'example_text': The matched example news text used for few-shot prompting.\n",
    "            - 'example_label': The sentiment label of the matched example.\n",
    "            - If an error occurs, returns {'error': <error_message>}.\n",
    "\n",
    "    Example:\n",
    "        result = classify_sentiment_with_few_shot(\n",
    "            news=\"Tesla shares drop after recall announcement.\",\n",
    "            example_text=\"Tesla faces scrutiny after software glitch, stock falls.\",\n",
    "            example_label=\"negative\"\n",
    "        )\n",
    "        # Returns: {\n",
    "        #   'sentiment': 'negative',\n",
    "        #   'news': \"...\",\n",
    "        #   'example_text': \"...\",\n",
    "        #   'example_label': \"negative\"\n",
    "        # }\n",
    "    \"\"\"\n",
    "    prompt = f\"\"\"You are a financial sentiment classifier.\n",
    "    Here is an example:\n",
    "    Text: {example_text}\n",
    "    Sentiment: {example_label.capitalize()}\n",
    "    \n",
    "    Now classify the following:\n",
    "    Text: {news}\n",
    "    Sentiment:\n",
    "    \"\"\"\n",
    "\n",
    "    try:\n",
    "        response = client.models.generate_content(\n",
    "            model=\"gemini-2.0-flash\",\n",
    "            contents=prompt\n",
    "        )\n",
    "        sentiment = response.text.strip().lower()\n",
    "\n",
    "        if sentiment.startswith(\"positive\"):\n",
    "            sentiment = \"positive\"\n",
    "        elif sentiment.startswith(\"negative\"):\n",
    "            sentiment = \"negative\"\n",
    "        elif sentiment.startswith(\"neutral\"):\n",
    "            sentiment = \"neutral\"\n",
    "        else:\n",
    "            sentiment = \"unknown\"\n",
    "\n",
    "        return {\n",
    "            \"sentiment\": sentiment,\n",
    "            \"news\": news,\n",
    "            # \"example_text\": example_text,\n",
    "            # \"example_label\": example_label\n",
    "        }\n",
    "\n",
    "    except Exception as e:\n",
    "        return {\"error\": str(e)}\n"
   ]
  },
  {
   "cell_type": "markdown",
   "metadata": {},
   "source": [
    "## Create Agent and Run Over News Batch"
   ]
  },
  {
   "cell_type": "code",
   "execution_count": 18,
   "metadata": {},
   "outputs": [],
   "source": [
    "from langchain_core.language_models import BaseChatModel\n",
    "from langchain_core.messages import HumanMessage\n",
    "from langchain_core.outputs import ChatResult, ChatGeneration\n",
    "from langchain.agents import initialize_agent, AgentType\n"
   ]
  },
  {
   "cell_type": "code",
   "execution_count": 19,
   "metadata": {},
   "outputs": [],
   "source": [
    "from typing import List, Optional, Union, Any"
   ]
  },
  {
   "cell_type": "markdown",
   "metadata": {},
   "source": [
    "### 🔁 Run Agent in Batch Mode\n",
    "Iterate through 1000 articles, retrieve examples, classify, and store the results."
   ]
  },
  {
   "cell_type": "code",
   "execution_count": 26,
   "metadata": {},
   "outputs": [
    {
     "name": "stderr",
     "output_type": "stream",
     "text": [
      "100%|███████████████████████████████████████████| 25/25 [02:43<00:00,  6.52s/it]\n"
     ]
    }
   ],
   "source": [
    "real_time_news = fetch_news.invoke({'query': 'S&P 500 trend today', 'max_results': 100})\n",
    "\n",
    "results = []\n",
    "\n",
    "for article in tqdm(real_time_news[:25]):  # Test with 25 first\n",
    "    retrieved = retrieve_similar_labeled_example.run(article)\n",
    "    time.sleep(5) \n",
    "    if 'example_text' not in retrieved:\n",
    "        continue\n",
    "    \n",
    "    # Call classification with retrieved example\n",
    "    classification = classify_sentiment_with_few_shot.run({\n",
    "        \"news\":article,\n",
    "        \"example_text\":retrieved['example_text'],\n",
    "        'example_label':retrieved['example_label']\n",
    "})\n",
    "    \n",
    "    results.append(classification)\n"
   ]
  },
  {
   "cell_type": "code",
   "execution_count": 37,
   "metadata": {
    "scrolled": true
   },
   "outputs": [],
   "source": [
    "# real_time_news"
   ]
  },
  {
   "cell_type": "code",
   "execution_count": 36,
   "metadata": {
    "scrolled": true
   },
   "outputs": [],
   "source": [
    "# results"
   ]
  },
  {
   "cell_type": "markdown",
   "metadata": {},
   "source": [
    "### Save Structured Results"
   ]
  },
  {
   "cell_type": "code",
   "execution_count": null,
   "metadata": {},
   "outputs": [],
   "source": [
    "import json\n",
    "from pprint import pprint"
   ]
  },
  {
   "cell_type": "code",
   "execution_count": null,
   "metadata": {},
   "outputs": [],
   "source": [
    "with open(\"financial_sentiment_results.json\", \"w\") as f:\n",
    "    json.dump(results, f, indent=2)"
   ]
  },
  {
   "cell_type": "code",
   "execution_count": null,
   "metadata": {},
   "outputs": [],
   "source": [
    "with open(\"financial_sentiment_results.json\", \"r\") as f:\n",
    "    data = json.load(f)\n",
    "\n",
    "pprint(data[:5])  "
   ]
  },
  {
   "cell_type": "markdown",
   "metadata": {},
   "source": [
    "# Creating Agent using Google ADK"
   ]
  },
  {
   "cell_type": "code",
   "execution_count": 35,
   "metadata": {},
   "outputs": [],
   "source": [
    "from google.adk.agents import Agent\n",
    "from google.adk.tools import FunctionTool\n",
    "from google.adk.runners import Runner\n",
    "from google.adk.sessions import InMemorySessionService\n",
    "from google.genai import types\n",
    "\n",
    "import logging\n",
    "\n",
    "class _NoFunctionCallWarning(logging.Filter):\n",
    "    def filter(self, record: logging.LogRecord) -> bool:\n",
    "        message = record.getMessage()\n",
    "        if \"there are non-text parts in the response:\" in message:\n",
    "            return False\n",
    "        else:\n",
    "            return True\n",
    "\n",
    "logging.getLogger(\"google_genai.types\").addFilter(_NoFunctionCallWarning())"
   ]
  },
  {
   "cell_type": "code",
   "execution_count": 43,
   "metadata": {},
   "outputs": [],
   "source": [
    "APP_NAME=\"stock_market_agent\"\n",
    "USER_ID=\"user1234\"\n",
    "SESSION_ID=\"1234\"\n",
    "MODEL_ID=\"gemini-2.0-flash\""
   ]
  },
  {
   "cell_type": "code",
   "execution_count": 37,
   "metadata": {},
   "outputs": [],
   "source": [
    "fetch_news_tool = FunctionTool(func=fetch_news)\n",
    "retrieve_similar_labeles_tool = FunctionTool(func=retrieve_similar_labeled_example)\n",
    "sentiment_classification_tool = FunctionTool(func=classify_sentiment_with_few_shot)"
   ]
  },
  {
   "cell_type": "code",
   "execution_count": 38,
   "metadata": {},
   "outputs": [],
   "source": [
    "agent_instructions = \"\"\"\n",
    "You are a financial assistant that helps users stay updated on stock market trends by providing news highlights and summarizing the overall market sentiment.\n",
    "\n",
    "**Workflow:**\n",
    "- When the user asks about a stock, company, or market trend, use the 'fetch_news' tool to retrieve recent English news articles relevant to their query.\n",
    "- For each fetched news article, use the 'retrieve_similar_labeled_example' tool to find the most semantically similar labeled finance news from the historical dataset.\n",
    "- Use the 'classify_sentiment_with_few_shot' tool, providing both the new article and the matched labeled example, to classify the sentiment of the news as positive, negative, or neutral.\n",
    "- Present a brief summary of the main news points to the user, including the sentiment for each article.\n",
    "- At the end, provide a high-level summary of the overall sentiment trend for the user's query (e.g., \"Most news about [topic] this week is positive/negative/neutral\").\n",
    "- If you are unable to find news or classify sentiment, let the user know and suggest they try a different query.\n",
    "\n",
    "**General Guidance:**\n",
    "- Always use the tools in the following order: 1) fetch_news, 2) retrieve_similar_labeled_example, 3) classify_sentiment_with_few_shot.\n",
    "- If any tool fails or returns no results, inform the user politely and suggest next steps.\n",
    "- Summarize results clearly, using easy-to-understand language and bullet points when sharing multiple news items or sentiments.\n",
    "\"\"\""
   ]
  },
  {
   "cell_type": "code",
   "execution_count": 44,
   "metadata": {},
   "outputs": [],
   "source": [
    "# Agent\n",
    "stock_market_agent = Agent(\n",
    "    model=MODEL_ID,\n",
    "    name='stock_market_agent',\n",
    "    instruction=agent_instructions,\n",
    "    tools=[fetch_news_tool, retrieve_similar_labeles_tool, sentiment_classification_tool]\n",
    ")"
   ]
  },
  {
   "cell_type": "code",
   "execution_count": 45,
   "metadata": {},
   "outputs": [],
   "source": [
    "# --- Session and Runner Setup ---\n",
    "session_service = InMemorySessionService()\n",
    "\n",
    "# Create the session ONCE, before any agent calls\n",
    "await session_service.create_session(app_name=APP_NAME, user_id=USER_ID, session_id=SESSION_ID)\n",
    "\n",
    "runner = Runner(agent=stock_market_agent, app_name=APP_NAME, session_service=session_service)"
   ]
  },
  {
   "cell_type": "code",
   "execution_count": 46,
   "metadata": {},
   "outputs": [],
   "source": [
    "def call_agent(query):\n",
    "    content = types.Content(role='user', parts=[types.Part(text=query)])\n",
    "    events = runner.run(user_id=USER_ID, session_id=SESSION_ID, new_message=content)\n",
    "    print(\"\\nUser:\", query)\n",
    "    print(\"\\n========== Agent Reasoning Steps ==========\\n\")\n",
    "    for event in events:\n",
    "        step_lines = []\n",
    "        # Safe check for role\n",
    "        role = getattr(event.content, 'role', None) if hasattr(event, 'content') and event.content else None\n",
    "\n",
    "        for part in event.content.parts:\n",
    "            # Agent's reasoning, narration, or explanation\n",
    "            if hasattr(part, \"text\") and part.text is not None and part.text.strip():\n",
    "                step_lines.append(f\"[Agent Thought]\\n{part.text.strip()}\\n\")\n",
    "            # Tool Call\n",
    "            if hasattr(part, \"function_call\") and part.function_call is not None:\n",
    "                args = part.function_call.args\n",
    "                args_text = \"\\n    \".join(f\"{k}: {v}\" for k, v in args.items())\n",
    "                step_lines.append(\n",
    "                    f\"[Tool Call]\\n\"\n",
    "                    f\"Tool: {part.function_call.name}\\n\"\n",
    "                    f\"Arguments:\\n    {args_text}\\n\"\n",
    "                )\n",
    "            # Tool Output (Tool's reply back to agent, sometimes as tool_output, sometimes as text with role 'tool')\n",
    "            if hasattr(part, \"function_response\") and part.function_response is not None:\n",
    "                step_lines.append(f\"[Tool Output]\\n{part.function_response.response}\\n\")\n",
    "        # Sometimes tool output is just in text form from the tool's response\n",
    "        if role == \"tool\":\n",
    "            for part in event.content.parts:\n",
    "                if hasattr(part, \"text\") and part.text is not None and part.text.strip():\n",
    "                    step_lines.append(f\"[Tool Output]\\n{part.text.strip()}\\n\")\n",
    "        if step_lines:\n",
    "            print(\"----- Step -----\")\n",
    "            for l in step_lines:\n",
    "                print(l)\n",
    "        # Detect and print the final response clearly\n",
    "        if event.is_final_response():\n",
    "            print(\"\\n========== Final Agent Response ==========\\n\")\n",
    "            for part in event.content.parts:\n",
    "                if hasattr(part, \"text\") and part.text is not None and part.text.strip():\n",
    "                    print(part.text.strip())\n",
    "            print(\"\\n==========================================\\n\")\n"
   ]
  },
  {
   "cell_type": "code",
   "execution_count": 47,
   "metadata": {},
   "outputs": [
    {
     "name": "stdout",
     "output_type": "stream",
     "text": [
      "\n",
      "User: What is S&P trends today?\n",
      "\n",
      "========== Agent Reasoning Steps ==========\n",
      "\n",
      "----- Step -----\n",
      "[Tool Call]\n",
      "Tool: fetch_news\n",
      "Arguments:\n",
      "    max_results: 5\n",
      "    query: S&P 500\n",
      "\n",
      "----- Step -----\n",
      "[Tool Output]\n",
      "{'result': ['Morgan Stanley shares a chart that fuels the argument for new stock-market highs. The outlook for earnings is brightening, Morgan Stanley CIO Mike Wilson said. More upward revisions has historically led to 13% boost for the S&P 500.', 'Bath & Body Works is ready to go international after a bruising year saw its stock fall 40%. The home fragrance retailer reported a strong quarter after a troubling year, with its stock down 40% year-on-year and removal from the S&P 500.', \"Dow, Nasdaq, S&P 500 falling after Israel airstrikes on Iran. All three of the US market indexes (^DJI, ^IXIC, ^GSPC) start Friday's trading session in negative territory, falling after Israel coordinated airstrikes to ...\"]}\n",
      "\n",
      "----- Step -----\n",
      "[Agent Thought]\n",
      "Here's what's going on with the S&P 500:\n",
      "\n",
      "*   **Positive Outlook:** Morgan Stanley suggests the S&P 500 could reach new highs due to brightening earnings outlooks and upward revisions.\n",
      "*   **Company Performance:** Bath & Body Works, despite a challenging year with a stock fall and removal from the S&P 500, is expanding internationally after a strong quarter.\n",
      "*   **Market Dip:** The S&P 500, along with the Dow and Nasdaq, is falling following reports of Israeli airstrikes on Iran.\n",
      "\n",
      "Now, I will analyze the sentiment of each article.\n",
      "\n",
      "[Tool Call]\n",
      "Tool: retrieve_similar_labeled_example\n",
      "Arguments:\n",
      "    news_text: Morgan Stanley shares a chart that fuels the argument for new stock-market highs. The outlook for earnings is brightening, Morgan Stanley CIO Mike Wilson said. More upward revisions has historically led to 13% boost for the S&P 500.\n",
      "\n",
      "----- Step -----\n",
      "[Tool Output]\n",
      "{'example_text': 'Operating profit rose to EUR 13.1 mn from EUR 8.7 mn in the corresponding period in 2007 representing 7.7 % of net sales .', 'example_label': 'positive'}\n",
      "\n",
      "----- Step -----\n",
      "[Tool Call]\n",
      "Tool: classify_sentiment_with_few_shot\n",
      "Arguments:\n",
      "    example_text: Operating profit rose to EUR 13.1 mn from EUR 8.7 mn in the corresponding period in 2007 representing 7.7 % of net sales .\n",
      "    example_label: positive\n",
      "    news: Morgan Stanley shares a chart that fuels the argument for new stock-market highs. The outlook for earnings is brightening, Morgan Stanley CIO Mike Wilson said. More upward revisions has historically led to 13% boost for the S&P 500.\n",
      "\n",
      "----- Step -----\n",
      "[Tool Output]\n",
      "{'sentiment': 'positive', 'news': 'Morgan Stanley shares a chart that fuels the argument for new stock-market highs. The outlook for earnings is brightening, Morgan Stanley CIO Mike Wilson said. More upward revisions has historically led to 13% boost for the S&P 500.'}\n",
      "\n",
      "----- Step -----\n",
      "[Tool Call]\n",
      "Tool: retrieve_similar_labeled_example\n",
      "Arguments:\n",
      "    news_text: Bath & Body Works is ready to go international after a bruising year saw its stock fall 40%. The home fragrance retailer reported a strong quarter after a troubling year, with its stock down 40% year-on-year and removal from the S&P 500.\n",
      "\n",
      "----- Step -----\n",
      "[Tool Output]\n",
      "{'example_text': 'Operating profit rose to EUR 13.1 mn from EUR 8.7 mn in the corresponding period in 2007 representing 7.7 % of net sales .', 'example_label': 'positive'}\n",
      "\n",
      "----- Step -----\n",
      "[Tool Call]\n",
      "Tool: classify_sentiment_with_few_shot\n",
      "Arguments:\n",
      "    news: Bath & Body Works is ready to go international after a bruising year saw its stock fall 40%. The home fragrance retailer reported a strong quarter after a troubling year, with its stock down 40% year-on-year and removal from the S&P 500.\n",
      "    example_label: positive\n",
      "    example_text: Operating profit rose to EUR 13.1 mn from EUR 8.7 mn in the corresponding period in 2007 representing 7.7 % of net sales .\n",
      "\n",
      "----- Step -----\n",
      "[Tool Output]\n",
      "{'sentiment': 'unknown', 'news': 'Bath & Body Works is ready to go international after a bruising year saw its stock fall 40%. The home fragrance retailer reported a strong quarter after a troubling year, with its stock down 40% year-on-year and removal from the S&P 500.'}\n",
      "\n",
      "----- Step -----\n",
      "[Tool Call]\n",
      "Tool: retrieve_similar_labeled_example\n",
      "Arguments:\n",
      "    news_text: Dow, Nasdaq, S&P 500 falling after Israel airstrikes on Iran. All three of the US market indexes (^DJI, ^IXIC, ^GSPC) start Friday's trading session in negative territory, falling after Israel coordinated airstrikes to ...\n",
      "\n",
      "----- Step -----\n",
      "[Tool Output]\n",
      "{'example_text': 'According to Gran , the company has no plans to move all production to Russia , although that is where the company is growing .', 'example_label': 'neutral'}\n",
      "\n",
      "----- Step -----\n",
      "[Tool Call]\n",
      "Tool: classify_sentiment_with_few_shot\n",
      "Arguments:\n",
      "    example_label: neutral\n",
      "    news: Dow, Nasdaq, S&P 500 falling after Israel airstrikes on Iran. All three of the US market indexes (^DJI, ^IXIC, ^GSPC) start Friday's trading session in negative territory, falling after Israel coordinated airstrikes to ...\n",
      "    example_text: According to Gran , the company has no plans to move all production to Russia , although that is where the company is growing .\n",
      "\n",
      "----- Step -----\n",
      "[Tool Output]\n",
      "{'sentiment': 'negative', 'news': \"Dow, Nasdaq, S&P 500 falling after Israel airstrikes on Iran. All three of the US market indexes (^DJI, ^IXIC, ^GSPC) start Friday's trading session in negative territory, falling after Israel coordinated airstrikes to ...\"}\n",
      "\n",
      "----- Step -----\n",
      "[Agent Thought]\n",
      "Here's a summary of the S&P 500 trends:\n",
      "\n",
      "*   **Positive Outlook:** Morgan Stanley's analysis suggests potential for new highs, citing a brightening earnings outlook (Sentiment: positive).\n",
      "*   **Bath & Body Works:** The company is expanding internationally after a challenging year. (Sentiment: unknown).\n",
      "*   **Market Dip:** The S&P 500, along with the Dow and Nasdaq, is experiencing a downturn following Israeli airstrikes on Iran (Sentiment: negative).\n",
      "\n",
      "**Overall Sentiment:** Mixed. While there's optimism from some analysts, geopolitical events are currently exerting negative pressure on the S&P 500.\n",
      "\n",
      "\n",
      "========== Final Agent Response ==========\n",
      "\n",
      "Here's a summary of the S&P 500 trends:\n",
      "\n",
      "*   **Positive Outlook:** Morgan Stanley's analysis suggests potential for new highs, citing a brightening earnings outlook (Sentiment: positive).\n",
      "*   **Bath & Body Works:** The company is expanding internationally after a challenging year. (Sentiment: unknown).\n",
      "*   **Market Dip:** The S&P 500, along with the Dow and Nasdaq, is experiencing a downturn following Israeli airstrikes on Iran (Sentiment: negative).\n",
      "\n",
      "**Overall Sentiment:** Mixed. While there's optimism from some analysts, geopolitical events are currently exerting negative pressure on the S&P 500.\n",
      "\n",
      "==========================================\n",
      "\n"
     ]
    }
   ],
   "source": [
    "call_agent(\"What is S&P trends today?\")"
   ]
  },
  {
   "cell_type": "code",
   "execution_count": 109,
   "metadata": {},
   "outputs": [
    {
     "name": "stdout",
     "output_type": "stream",
     "text": [
      "\n",
      "User: What are trends around QQQM ETF today?\n",
      "\n",
      "========== Agent Reasoning Steps ==========\n",
      "\n",
      "----- Step -----\n",
      "[Agent Thought]\n",
      "Here's a summary of the trends surrounding QQQM ETF today:\n",
      "\n",
      "*   **QQQ Attracts $2.4B in Assets:** (Sentiment: Positive) QQQ led ETF inflows as the strong jobs report lifted markets.\n",
      "*   **Institutional Investor Activity:**\n",
      "    *   NorthCrest Asset Management LLC increased its position: (Sentiment: Positive)\n",
      "    *   Two Sigma Investments LP grew its position: (Sentiment: Positive)\n",
      "    *   Dynamic Advisor Solutions LLC decreased its holdings: (Sentiment: Negative)\n",
      "*   **Short Interest Decrease:** (Sentiment: Neutral) Short interest in QQQM dropped by 24.4% in May.\n",
      "\n",
      "Overall sentiment for QQQM ETF today is slightly positive, driven by significant asset inflows and increased positions from some institutional investors, though there was also a decrease in holdings by another institution. The decrease in short interest is a neutral signal.\n",
      "\n",
      "\n",
      "========== Final Agent Response ==========\n",
      "\n",
      "Here's a summary of the trends surrounding QQQM ETF today:\n",
      "\n",
      "*   **QQQ Attracts $2.4B in Assets:** (Sentiment: Positive) QQQ led ETF inflows as the strong jobs report lifted markets.\n",
      "*   **Institutional Investor Activity:**\n",
      "    *   NorthCrest Asset Management LLC increased its position: (Sentiment: Positive)\n",
      "    *   Two Sigma Investments LP grew its position: (Sentiment: Positive)\n",
      "    *   Dynamic Advisor Solutions LLC decreased its holdings: (Sentiment: Negative)\n",
      "*   **Short Interest Decrease:** (Sentiment: Neutral) Short interest in QQQM dropped by 24.4% in May.\n",
      "\n",
      "Overall sentiment for QQQM ETF today is slightly positive, driven by significant asset inflows and increased positions from some institutional investors, though there was also a decrease in holdings by another institution. The decrease in short interest is a neutral signal.\n",
      "\n",
      "==========================================\n",
      "\n"
     ]
    }
   ],
   "source": [
    "call_agent(\"What are trends around QQQM ETF today?\")"
   ]
  },
  {
   "cell_type": "code",
   "execution_count": 12,
   "metadata": {},
   "outputs": [
    {
     "data": {
      "text/plain": [
       "UUID('919f00ae-cf36-4045-8f41-4f9ce473c49b')"
      ]
     },
     "execution_count": 12,
     "metadata": {},
     "output_type": "execute_result"
    }
   ],
   "source": [
    "import uuid\n",
    "uuid.uuid4()"
   ]
  }
 ],
 "metadata": {
  "kaggle": {
   "accelerator": "none",
   "dataSources": [
    {
     "datasetId": 622510,
     "sourceId": 1192499,
     "sourceType": "datasetVersion"
    }
   ],
   "dockerImageVersionId": 31012,
   "isGpuEnabled": false,
   "isInternetEnabled": true,
   "language": "python",
   "sourceType": "notebook"
  },
  "kernelspec": {
   "display_name": "Python 3 (ipykernel)",
   "language": "python",
   "name": "python3"
  },
  "language_info": {
   "codemirror_mode": {
    "name": "ipython",
    "version": 3
   },
   "file_extension": ".py",
   "mimetype": "text/x-python",
   "name": "python",
   "nbconvert_exporter": "python",
   "pygments_lexer": "ipython3",
   "version": "3.13.2"
  }
 },
 "nbformat": 4,
 "nbformat_minor": 4
}
